{
  "nbformat": 4,
  "nbformat_minor": 0,
  "metadata": {
    "colab": {
      "provenance": []
    },
    "kernelspec": {
      "name": "python3",
      "display_name": "Python 3"
    },
    "language_info": {
      "name": "python"
    }
  },
  "cells": [
    {
      "cell_type": "markdown",
      "source": [
        "To use this example notebook, an API key from OpenAI will be need. It is necessary to use OpenAI's embedding and GPT models.  "
      ],
      "metadata": {
        "id": "uDWMckYCcqla"
      }
    },
    {
      "cell_type": "markdown",
      "source": [
        "### Installs & imports"
      ],
      "metadata": {
        "id": "41uGN7jzzXiN"
      }
    },
    {
      "cell_type": "code",
      "execution_count": null,
      "metadata": {
        "id": "bib4XwQntg7O"
      },
      "outputs": [],
      "source": [
        "%%capture\n",
        "!pip install \"openai==1.17\""
      ]
    },
    {
      "cell_type": "code",
      "source": [
        "import numpy as np\n",
        "import pandas as pd\n",
        "from scipy.stats import zscore\n",
        "\n",
        "from openai import OpenAI\n",
        "\n",
        "from google.colab import files"
      ],
      "metadata": {
        "id": "gsyhQ9_EvfY4"
      },
      "execution_count": 1,
      "outputs": []
    },
    {
      "cell_type": "markdown",
      "source": [
        "### Constants"
      ],
      "metadata": {
        "id": "UBPJ8E0mzcDj"
      }
    },
    {
      "cell_type": "markdown",
      "source": [
        "Available variables:\n",
        "*   OPEN_AI_KEY: Your private API key from OpenAI platform. Remember not to share it publicly.\n",
        "*   LLM_MODEL: One of possible GPT models for generating the sql queries.\n",
        "*   TEMPERATURE: Variance in the possible model's responses. Lower number is preffered.\n",
        "*   Z_SCORE_RANGE: The higher the value, the more additional tables (from the database) may be provided to the LLM. *This score is used to rank the similarity between the tables and given natural language query.*\n",
        "\n"
      ],
      "metadata": {
        "id": "-7sZHFBfdIT2"
      }
    },
    {
      "cell_type": "code",
      "source": [
        "OPEN_AI_KEY = '' # @param {type:\"string\"}\n",
        "LLM_MODEL = \"gpt-4-turbo-preview\" # @param [\"gpt-4-turbo-preview\", \"gpt-4\", \"gpt-3.5-turbo\"] {type:\"raw\"}\n",
        "TEMPERATURE = 0.1 # @param {type:\"slider\", min:0, max:0.4, step:0.02}\n",
        " ### Low number preffered for less mistakes\n",
        "FREQUENCY_PENALTY = -1\n",
        "Z_SCORE_RANGE = 0.7 # @param {type:\"slider\", min:0.2, max:1.0, step:0.02}\n",
        "### The higher the above number, the more additional tables may be provided to the LLM\n",
        "LLM_CONTEXT = \"You are writing SQL queries only. For every user question, answer only with an SQL query which does what the user wants, on a provided table.\"\n",
        "### Potential improvement: Optimize the length of the context to save money on tokens"
      ],
      "metadata": {
        "id": "xtjK0FkB39Ee"
      },
      "execution_count": null,
      "outputs": []
    },
    {
      "cell_type": "markdown",
      "source": [
        "### Definitions and generator class"
      ],
      "metadata": {
        "id": "PARrARTzzggB"
      }
    },
    {
      "cell_type": "code",
      "source": [
        "cosine_similarity_numpy = lambda vec1, vec2: np.dot(vec1, vec2)/(np.linalg.norm(vec1)*np.linalg.norm(vec2))\n",
        "### Alternatively I could use scipy, or scikit-learn, but this pure numpy approach is very fast and flexible if needed"
      ],
      "metadata": {
        "id": "Y9SkDDJJwU2W"
      },
      "execution_count": null,
      "outputs": []
    },
    {
      "cell_type": "code",
      "source": [
        "### OpenAI\n",
        "\n",
        "client = OpenAI(\n",
        "    api_key = OPEN_AI_KEY\n",
        ")\n",
        "\n",
        "def get_openai_embedding(text, model=\"text-embedding-3-small\"):\n",
        "  return client.embeddings.create(input = [text], model=model).data[0].embedding\n",
        "\n",
        "def get_response(user_query, table_queries, context=None, frequency_penalty=None, temperature=None):\n",
        "  if context == None:\n",
        "    context = LLM_CONTEXT\n",
        "  if frequency_penalty == None:\n",
        "    frequency_penalty = FREQUENCY_PENALTY\n",
        "  if temperature == None:\n",
        "    temperature = TEMPERATURE\n",
        "  response = client.chat.completions.create(\n",
        "    model = LLM_MODEL,\n",
        "    temperature = temperature,\n",
        "    frequency_penalty = frequency_penalty,\n",
        "    messages=[\n",
        "      {\"role\": \"system\", \"content\": context},\n",
        "      {\"role\": \"user\", \"content\": f\"User question: {user_query}. Tables: {table_queries}  Write an SQL query that satisfies the user's question based on the provided tables\"}\n",
        "    ]\n",
        "  )\n",
        "  return response\n",
        "\n",
        "def parse_response(response, remove_markings=True):\n",
        "  answer = response.choices[0].message.content\n",
        "  return answer.removeprefix('```sql').removesuffix('```') if remove_markings else answer\n",
        "\n",
        "def get_description_response(query):\n",
        "  response = client.chat.completions.create(\n",
        "    model = LLM_MODEL,\n",
        "    temperature = 0.5,\n",
        "    messages=[\n",
        "      {\"role\": \"system\", \"content\": \"You are taking in SQL queries and make short descriptions (without technical details) of what information they store.\"},\n",
        "      {\"role\": \"user\", \"content\": query}\n",
        "    ]\n",
        "  )\n",
        "  return response\n"
      ],
      "metadata": {
        "id": "Mtj_5OUyw-p1"
      },
      "execution_count": null,
      "outputs": []
    },
    {
      "cell_type": "code",
      "source": [
        "class QueryGenerator():\n",
        "\n",
        "  def __init__(self, df):\n",
        "    self.df = df\n",
        "\n",
        "  def create_embeddings(self, descriptions=True):\n",
        "    def insert_vectors(row):\n",
        "      if descriptions:\n",
        "        description = parse_response(get_description_response(row['query']))\n",
        "        return get_openai_embedding(description)\n",
        "      else:\n",
        "        return get_openai_embedding(row['query'])\n",
        "    self.df['vector'] = self.df.apply(insert_vectors, axis=1)\n",
        "\n",
        "  def check_similarities(self, nl_query:str):\n",
        "    nl_vector = get_openai_embedding(nl_query)\n",
        "    cos_similarities = []\n",
        "    for idx, row in self.df.iterrows():\n",
        "      cos_similarities.append(cosine_similarity_numpy(row['vector'], nl_vector))\n",
        "    return cos_similarities\n",
        "\n",
        "  def generate_query(self, nl_query:str, zscore_range=None):\n",
        "    if zscore_range == None:\n",
        "      zscore_range = Z_SCORE_RANGE\n",
        "    cos_similarities = self.check_similarities(nl_query)\n",
        "    max_idx = np.argmax(np.array(cos_similarities))\n",
        "    z_scores = zscore(cos_similarities).tolist()\n",
        "    z_threshold = z_scores[max_idx] - zscore_range\n",
        "    relevant_idx = [z_scores.index(score) for score in z_scores if score > z_threshold]\n",
        "    print(\"The chosen tables:\", relevant_idx) ### Left for testing purposes\n",
        "    table_queries = self.df.iloc[relevant_idx, 1].tolist()\n",
        "    response = get_response(nl_query, table_queries)\n",
        "    return parse_response(response)\n"
      ],
      "metadata": {
        "id": "gonN5IJ-UFWV"
      },
      "execution_count": null,
      "outputs": []
    },
    {
      "cell_type": "markdown",
      "source": [
        "### Testing"
      ],
      "metadata": {
        "id": "Xq4KIlR4zwXh"
      }
    },
    {
      "cell_type": "code",
      "source": [
        "### Loading Pandas dataframe from CSV.\n",
        "print(\"Upload CSV ['id','query'] with SQL queries:\")\n",
        "uploaded = files.upload()\n",
        "query_f = list(uploaded.keys())[0]\n",
        "query_df = pd.read_csv(query_f)\n",
        "\n",
        "### You can use the csv from the package, or upload your own with the similar format."
      ],
      "metadata": {
        "colab": {
          "base_uri": "https://localhost:8080/",
          "height": 92
        },
        "id": "cLFThkrlPw98",
        "outputId": "6eca1a75-2680-4cb2-87bd-9864c9aa00ba"
      },
      "execution_count": null,
      "outputs": [
        {
          "output_type": "stream",
          "name": "stdout",
          "text": [
            "Upload CSV ['id','query'] with SQL queries:\n"
          ]
        },
        {
          "output_type": "display_data",
          "data": {
            "text/plain": [
              "<IPython.core.display.HTML object>"
            ],
            "text/html": [
              "\n",
              "     <input type=\"file\" id=\"files-21a8bbd4-21e6-4978-9ec3-2e37df0f5aad\" name=\"files[]\" multiple disabled\n",
              "        style=\"border:none\" />\n",
              "     <output id=\"result-21a8bbd4-21e6-4978-9ec3-2e37df0f5aad\">\n",
              "      Upload widget is only available when the cell has been executed in the\n",
              "      current browser session. Please rerun this cell to enable.\n",
              "      </output>\n",
              "      <script>// Copyright 2017 Google LLC\n",
              "//\n",
              "// Licensed under the Apache License, Version 2.0 (the \"License\");\n",
              "// you may not use this file except in compliance with the License.\n",
              "// You may obtain a copy of the License at\n",
              "//\n",
              "//      http://www.apache.org/licenses/LICENSE-2.0\n",
              "//\n",
              "// Unless required by applicable law or agreed to in writing, software\n",
              "// distributed under the License is distributed on an \"AS IS\" BASIS,\n",
              "// WITHOUT WARRANTIES OR CONDITIONS OF ANY KIND, either express or implied.\n",
              "// See the License for the specific language governing permissions and\n",
              "// limitations under the License.\n",
              "\n",
              "/**\n",
              " * @fileoverview Helpers for google.colab Python module.\n",
              " */\n",
              "(function(scope) {\n",
              "function span(text, styleAttributes = {}) {\n",
              "  const element = document.createElement('span');\n",
              "  element.textContent = text;\n",
              "  for (const key of Object.keys(styleAttributes)) {\n",
              "    element.style[key] = styleAttributes[key];\n",
              "  }\n",
              "  return element;\n",
              "}\n",
              "\n",
              "// Max number of bytes which will be uploaded at a time.\n",
              "const MAX_PAYLOAD_SIZE = 100 * 1024;\n",
              "\n",
              "function _uploadFiles(inputId, outputId) {\n",
              "  const steps = uploadFilesStep(inputId, outputId);\n",
              "  const outputElement = document.getElementById(outputId);\n",
              "  // Cache steps on the outputElement to make it available for the next call\n",
              "  // to uploadFilesContinue from Python.\n",
              "  outputElement.steps = steps;\n",
              "\n",
              "  return _uploadFilesContinue(outputId);\n",
              "}\n",
              "\n",
              "// This is roughly an async generator (not supported in the browser yet),\n",
              "// where there are multiple asynchronous steps and the Python side is going\n",
              "// to poll for completion of each step.\n",
              "// This uses a Promise to block the python side on completion of each step,\n",
              "// then passes the result of the previous step as the input to the next step.\n",
              "function _uploadFilesContinue(outputId) {\n",
              "  const outputElement = document.getElementById(outputId);\n",
              "  const steps = outputElement.steps;\n",
              "\n",
              "  const next = steps.next(outputElement.lastPromiseValue);\n",
              "  return Promise.resolve(next.value.promise).then((value) => {\n",
              "    // Cache the last promise value to make it available to the next\n",
              "    // step of the generator.\n",
              "    outputElement.lastPromiseValue = value;\n",
              "    return next.value.response;\n",
              "  });\n",
              "}\n",
              "\n",
              "/**\n",
              " * Generator function which is called between each async step of the upload\n",
              " * process.\n",
              " * @param {string} inputId Element ID of the input file picker element.\n",
              " * @param {string} outputId Element ID of the output display.\n",
              " * @return {!Iterable<!Object>} Iterable of next steps.\n",
              " */\n",
              "function* uploadFilesStep(inputId, outputId) {\n",
              "  const inputElement = document.getElementById(inputId);\n",
              "  inputElement.disabled = false;\n",
              "\n",
              "  const outputElement = document.getElementById(outputId);\n",
              "  outputElement.innerHTML = '';\n",
              "\n",
              "  const pickedPromise = new Promise((resolve) => {\n",
              "    inputElement.addEventListener('change', (e) => {\n",
              "      resolve(e.target.files);\n",
              "    });\n",
              "  });\n",
              "\n",
              "  const cancel = document.createElement('button');\n",
              "  inputElement.parentElement.appendChild(cancel);\n",
              "  cancel.textContent = 'Cancel upload';\n",
              "  const cancelPromise = new Promise((resolve) => {\n",
              "    cancel.onclick = () => {\n",
              "      resolve(null);\n",
              "    };\n",
              "  });\n",
              "\n",
              "  // Wait for the user to pick the files.\n",
              "  const files = yield {\n",
              "    promise: Promise.race([pickedPromise, cancelPromise]),\n",
              "    response: {\n",
              "      action: 'starting',\n",
              "    }\n",
              "  };\n",
              "\n",
              "  cancel.remove();\n",
              "\n",
              "  // Disable the input element since further picks are not allowed.\n",
              "  inputElement.disabled = true;\n",
              "\n",
              "  if (!files) {\n",
              "    return {\n",
              "      response: {\n",
              "        action: 'complete',\n",
              "      }\n",
              "    };\n",
              "  }\n",
              "\n",
              "  for (const file of files) {\n",
              "    const li = document.createElement('li');\n",
              "    li.append(span(file.name, {fontWeight: 'bold'}));\n",
              "    li.append(span(\n",
              "        `(${file.type || 'n/a'}) - ${file.size} bytes, ` +\n",
              "        `last modified: ${\n",
              "            file.lastModifiedDate ? file.lastModifiedDate.toLocaleDateString() :\n",
              "                                    'n/a'} - `));\n",
              "    const percent = span('0% done');\n",
              "    li.appendChild(percent);\n",
              "\n",
              "    outputElement.appendChild(li);\n",
              "\n",
              "    const fileDataPromise = new Promise((resolve) => {\n",
              "      const reader = new FileReader();\n",
              "      reader.onload = (e) => {\n",
              "        resolve(e.target.result);\n",
              "      };\n",
              "      reader.readAsArrayBuffer(file);\n",
              "    });\n",
              "    // Wait for the data to be ready.\n",
              "    let fileData = yield {\n",
              "      promise: fileDataPromise,\n",
              "      response: {\n",
              "        action: 'continue',\n",
              "      }\n",
              "    };\n",
              "\n",
              "    // Use a chunked sending to avoid message size limits. See b/62115660.\n",
              "    let position = 0;\n",
              "    do {\n",
              "      const length = Math.min(fileData.byteLength - position, MAX_PAYLOAD_SIZE);\n",
              "      const chunk = new Uint8Array(fileData, position, length);\n",
              "      position += length;\n",
              "\n",
              "      const base64 = btoa(String.fromCharCode.apply(null, chunk));\n",
              "      yield {\n",
              "        response: {\n",
              "          action: 'append',\n",
              "          file: file.name,\n",
              "          data: base64,\n",
              "        },\n",
              "      };\n",
              "\n",
              "      let percentDone = fileData.byteLength === 0 ?\n",
              "          100 :\n",
              "          Math.round((position / fileData.byteLength) * 100);\n",
              "      percent.textContent = `${percentDone}% done`;\n",
              "\n",
              "    } while (position < fileData.byteLength);\n",
              "  }\n",
              "\n",
              "  // All done.\n",
              "  yield {\n",
              "    response: {\n",
              "      action: 'complete',\n",
              "    }\n",
              "  };\n",
              "}\n",
              "\n",
              "scope.google = scope.google || {};\n",
              "scope.google.colab = scope.google.colab || {};\n",
              "scope.google.colab._files = {\n",
              "  _uploadFiles,\n",
              "  _uploadFilesContinue,\n",
              "};\n",
              "})(self);\n",
              "</script> "
            ]
          },
          "metadata": {}
        },
        {
          "output_type": "stream",
          "name": "stdout",
          "text": [
            "Saving dummy_sql_tables - Arkusz1.csv to dummy_sql_tables - Arkusz1 (1).csv\n"
          ]
        }
      ]
    },
    {
      "cell_type": "code",
      "source": [
        "qg = QueryGenerator(query_df)\n",
        "qg.create_embeddings()"
      ],
      "metadata": {
        "id": "8yT7uqo929r5"
      },
      "execution_count": null,
      "outputs": []
    },
    {
      "cell_type": "code",
      "source": [
        "# @markdown Select from list or type Your own.\n",
        "NATURAL_LANGUAGE_QUERY = \"What percentage of our users are located in Warsaw, Poland?\" # @param [\"How many transactions did make the user who wrote the most user rewievs?\", \"Do we have more shipments Italy or France?\", \"What is the adress of a person who made the last order?\", \"What percentage of our users are located in Warsaw, Poland?\"] {allow-input: true}\n",
        "qg.generate_query(NATURAL_LANGUAGE_QUERY)"
      ],
      "metadata": {
        "colab": {
          "base_uri": "https://localhost:8080/",
          "height": 53
        },
        "id": "PeK3znbavT4g",
        "outputId": "6574a4ec-1fd3-45f2-c2af-470934a9aae0"
      },
      "execution_count": null,
      "outputs": [
        {
          "output_type": "stream",
          "name": "stdout",
          "text": [
            "The chosen tables: [9]\n"
          ]
        },
        {
          "output_type": "execute_result",
          "data": {
            "text/plain": [
              "\"\\nSELECT\\n    ROUND((COUNT(*) FILTER (WHERE city = 'Warsaw' AND country = 'Poland') * 100.0) / COUNT(*), 2) AS percentage_users_in_warsaw\\nFROM\\n    testbase.shipping_addresses;\\n\""
            ],
            "application/vnd.google.colaboratory.intrinsic+json": {
              "type": "string"
            }
          },
          "metadata": {},
          "execution_count": 137
        }
      ]
    }
  ]
}